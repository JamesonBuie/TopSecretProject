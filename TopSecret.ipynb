{
 "cells": [
  {
   "cell_type": "code",
   "execution_count": 1,
   "id": "f8368ff9",
   "metadata": {},
   "outputs": [],
   "source": [
    "# importing string module to have strings of alphabet and symbols\n",
    "import string\n",
    "import random"
   ]
  },
  {
   "cell_type": "markdown",
   "id": "625b10f6",
   "metadata": {},
   "source": [
    "# Top Secret Program Overview\n",
    "* Password Generator \n",
    "* Message Encryptor "
   ]
  },
  {
   "cell_type": "markdown",
   "id": "589830dc",
   "metadata": {},
   "source": [
    "## Password Generator\n",
    "#### Generates random password based on user-selected length"
   ]
  },
  {
   "cell_type": "code",
   "execution_count": 2,
   "id": "53fb536b",
   "metadata": {},
   "outputs": [],
   "source": [
    "# list of all lower case letters\n",
    "lower_str=string.ascii_lowercase\n",
    "lower_letters=[i for i in lower_str]\n",
    "#print(lower_letters)\n",
    "\n",
    "# list of all upper case letters\n",
    "upper_letters=[]\n",
    "for i in lower_letters:\n",
    "    i=i.upper()\n",
    "    upper_letters.append(i)\n",
    "#print(upper_letters)\n",
    "\n",
    "# list of numbers\n",
    "numbers=string.digits\n",
    "num_list=[i for i in numbers]\n",
    "#print(num_list)\n",
    "\n",
    "# list of symbols\n",
    "symbols=string.punctuation\n",
    "symbol_list=[i for i in symbols]\n",
    "#print(symbol_list)\n",
    "\n",
    "\n",
    "# function that generates a random passowrd\n",
    "def generate_pass():\n",
    "    reply=(input(\"How long will your password be? (Maximum of 52 Characters) \"))\n",
    "    while True:\n",
    "        try:\n",
    "            num_of_chars=int(reply)\n",
    "            if num_of_chars<10:\n",
    "                print(\"Your password needs to be at least 10 characters long.\")\n",
    "                reply=int(input(\"Enter new number of characters:\\n \"))\n",
    "            else:\n",
    "                break\n",
    "        except: \n",
    "            print(\"Only enter a number.\")\n",
    "            reply=int(input(\"How long will your password be? \"))\n",
    "   # shuffle the items\n",
    "    random.shuffle(lower_letters)\n",
    "    random.shuffle(upper_letters)\n",
    "    random.shuffle(num_list)\n",
    "    random.shuffle(symbol_list)\n",
    "\n",
    "\n",
    "    \n",
    "    part1=round(num_of_chars*(30/100))\n",
    "    part2=round(num_of_chars*(20/100))\n",
    "    result=[]\n",
    "    for x in range(part1):\n",
    "        result.append(lower_letters[x])\n",
    "        result.append(upper_letters[x])\n",
    "    for x in range(part2):\n",
    "        result.append(num_list[x])\n",
    "        result.append(symbol_list[x])\n",
    "    random.shuffle(result)\n",
    "    password=''.join(result)\n",
    "    print(f\"Your password is: \\n{password}\")\n",
    "   \n",
    "    \n"
   ]
  },
  {
   "cell_type": "markdown",
   "id": "1aa7f481",
   "metadata": {},
   "source": [
    "## Message Encryptor\n",
    "#### Function that takes user input and encrypts the message"
   ]
  },
  {
   "cell_type": "code",
   "execution_count": 3,
   "id": "d4708b4a",
   "metadata": {},
   "outputs": [],
   "source": [
    "def encrypt_message():\n",
    "    message=input(\"Enter the message you want to encrypt: \")\n",
    "    # convert message to string and split each individual word into items of a list\n",
    "    message_list=message.split()\n",
    "    #print(message_list)\n",
    "\n",
    "    # shuffling input and converting input into a list of lists\n",
    "    new_list=[]\n",
    "    for i in message_list:\n",
    "        k=list(i)\n",
    "        random.shuffle(k)\n",
    "        new_list.append(k)\n",
    "    #print(new_list)\n",
    "\n",
    "    # turning shuffled lists back into strings\n",
    "    new_message=[]\n",
    "    for i in new_list:\n",
    "        new_word=''.join(i)\n",
    "        new_message.append(new_word)\n",
    "    #print(new_message)\n",
    "\n",
    "    # converting list into one string\n",
    "    list_to_string=' '.join(map(str, new_message))\n",
    "    print(f\"Your encoded message is: \\n{list_to_string}\")"
   ]
  },
  {
   "cell_type": "code",
   "execution_count": 4,
   "id": "d03c110a",
   "metadata": {},
   "outputs": [],
   "source": [
    "# function that addresses the user and takes input\n",
    "def use_func():\n",
    "    print('==========YOU ARE USING THE TOP SECRET PROGRAM==========')\n",
    "    print(\"1. Password Generator\")\n",
    "    print(\"2. Message Encryptor\")\n",
    "    choice=int(input(\"Which tool would you like to use?\\n \"))\n",
    "   \n",
    "    if choice==1:\n",
    "        generate_pass()\n",
    "    elif choice==2:\n",
    "        encrypt_message()\n",
    "    else:\n",
    "        print(\"Enter either 1 or 2\")\n",
    "        use_func()\n",
    "    run_again()\n",
    "    \n",
    "        "
   ]
  },
  {
   "cell_type": "code",
   "execution_count": 5,
   "id": "ca4652ef",
   "metadata": {},
   "outputs": [],
   "source": [
    "# function that determines if the user would like to continue or exit\n",
    "def run_again():\n",
    "    print('\\n')\n",
    "    choice=input(\"Would you like to use a tool again? [y/n] \")\n",
    "    choice=choice.lower()\n",
    "    if choice=='y':\n",
    "        use_func()\n",
    "    elif choice=='n':\n",
    "        print(\"Have a nice day\")\n",
    "    else:\n",
    "        print('Please enter a valid choice')\n",
    "        run_again()"
   ]
  },
  {
   "cell_type": "code",
   "execution_count": 6,
   "id": "78c84152",
   "metadata": {},
   "outputs": [
    {
     "name": "stdout",
     "output_type": "stream",
     "text": [
      "==========YOU ARE USING THE TOP SECRET PROGRAM==========\n",
      "1. Password Generator\n",
      "2. Message Encryptor\n",
      "Which tool would you like to use?\n",
      " 2\n",
      "Enter the message you want to encrypt: hi how are you\n",
      "Your encoded message is: \n",
      "ih who rae uyo\n",
      "\n",
      "\n",
      "Would you like to use a tool again? [y/n] n\n",
      "Have a nice day\n"
     ]
    }
   ],
   "source": [
    "# Running the program\n",
    "use_func()"
   ]
  },
  {
   "cell_type": "code",
   "execution_count": null,
   "id": "118598e2",
   "metadata": {},
   "outputs": [],
   "source": []
  }
 ],
 "metadata": {
  "kernelspec": {
   "display_name": "Python 3 (ipykernel)",
   "language": "python",
   "name": "python3"
  },
  "language_info": {
   "codemirror_mode": {
    "name": "ipython",
    "version": 3
   },
   "file_extension": ".py",
   "mimetype": "text/x-python",
   "name": "python",
   "nbconvert_exporter": "python",
   "pygments_lexer": "ipython3",
   "version": "3.9.13"
  }
 },
 "nbformat": 4,
 "nbformat_minor": 5
}

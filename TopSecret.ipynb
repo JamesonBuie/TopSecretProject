{
 "cells": [
  {
   "cell_type": "code",
   "execution_count": 1,
   "id": "b72abd20",
   "metadata": {},
   "outputs": [],
   "source": [
    "# importing string module to have string of alphabet and symbols\n",
    "import string\n",
    "import random"
   ]
  },
  {
   "cell_type": "markdown",
   "id": "89e36646",
   "metadata": {},
   "source": [
    "# Top Secret Program Overview\n",
    "* Password Generator \n",
    "* Message Encryptor "
   ]
  },
  {
   "cell_type": "markdown",
   "id": "6042d2ce",
   "metadata": {},
   "source": [
    "## Password Generator"
   ]
  },
  {
   "cell_type": "code",
   "execution_count": null,
   "id": "808d95d9",
   "metadata": {},
   "outputs": [],
   "source": [
    "# list of all lower case letters\n",
    "lower_str=string.ascii_lowercase\n",
    "lower_letters=[i for i in lower_str]\n",
    "#print(lower_letters)\n",
    "\n",
    "# list of all upper case letters\n",
    "upper_letters=[]\n",
    "for i in lower_letters:\n",
    "    i=i.upper()\n",
    "    upper_letters.append(i)\n",
    "#print(upper_letters)\n",
    "\n",
    "# list of numbers\n",
    "numbers=string.digits\n",
    "num_list=[i for i in numbers]\n",
    "#print(num_list)\n",
    "\n",
    "# list of symbols\n",
    "symbols=string.punctuation\n",
    "symbol_list=[i for i in symbols]\n",
    "#print(symbol_list)\n",
    "\n",
    "\n",
    "# function that generates a random passowrd\n",
    "def generate_pass():\n",
    "    reply=(input(\"How long will your password be? (Maximum of 52 Characters) \"))\n",
    "    while True:\n",
    "        try:\n",
    "            num_of_chars=int(reply)\n",
    "            if num_of_chars<10:\n",
    "                print(\"Your password needs to be at least 10 characters long.\")\n",
    "                reply=int(input(\"Enter new number of characters:\\n \"))\n",
    "            else:\n",
    "                break\n",
    "        except: \n",
    "            print(\"Only enter a number.\")\n",
    "            reply=int(input(\"How long will your password be? \"))\n",
    "   # shuffle the items\n",
    "    random.shuffle(lower_letters)\n",
    "    random.shuffle(upper_letters)\n",
    "    random.shuffle(num_list)\n",
    "    random.shuffle(symbol_list)\n",
    "\n",
    "\n",
    "    \n",
    "    part1=round(num_of_chars*(30/100))\n",
    "    part2=round(num_of_chars*(20/100))\n",
    "    result=[]\n",
    "    for x in range(part1):\n",
    "        result.append(lower_letters[x])\n",
    "        result.append(upper_letters[x])\n",
    "    for x in range(part2):\n",
    "        result.append(num_list[x])\n",
    "        result.append(symbol_list[x])\n",
    "    random.shuffle(result)\n",
    "    password=''.join(result)\n",
    "    print(f\"Your password is: \\n{password}\")\n",
    "   \n",
    "    \n"
   ]
  },
  {
   "cell_type": "markdown",
   "id": "23359a4c",
   "metadata": {},
   "source": [
    "## Message Encryptor"
   ]
  },
  {
   "cell_type": "code",
   "execution_count": 3,
   "id": "0583d05f",
   "metadata": {},
   "outputs": [],
   "source": [
    "def encrypt_message():\n",
    "    message=input(\"Enter the message you want to encrypt: \")\n",
    "    # convert message to string and split each individual word into items of a list\n",
    "    message_list=message.split()\n",
    "    #print(message_list)\n",
    "\n",
    "    # shuffling input and converting input into a list of lists\n",
    "    new_list=[]\n",
    "    for i in message_list:\n",
    "        k=list(i)\n",
    "        random.shuffle(k)\n",
    "        new_list.append(k)\n",
    "    #print(new_list)\n",
    "\n",
    "    # turning shuffled lists back into strings\n",
    "    new_message=[]\n",
    "    for i in new_list:\n",
    "        new_word=''.join(i)\n",
    "        new_message.append(new_word)\n",
    "    #print(new_message)\n",
    "\n",
    "    # converting list into one string\n",
    "    list_to_string=' '.join(map(str, new_message))\n",
    "    print(list_to_string)"
   ]
  },
  {
   "cell_type": "code",
   "execution_count": 14,
   "id": "0d5a1364",
   "metadata": {},
   "outputs": [],
   "source": [
    "def use_func():\n",
    "    print(\"1. Password Generator\")\n",
    "    print(\"2. Message Encryptor\")\n",
    "    choice=int(input(\"Which tool would you like to use?\\n \"))\n",
    "   \n",
    "    if choice==1:\n",
    "        generate_pass()\n",
    "    elif choice==2:\n",
    "        encrypt_message()\n",
    "    else:\n",
    "        print(\"Enter either 1 or 2\")\n",
    "        use_func()\n",
    "    run_again()\n",
    "    \n",
    "        "
   ]
  },
  {
   "cell_type": "code",
   "execution_count": 11,
   "id": "3458d557",
   "metadata": {},
   "outputs": [],
   "source": [
    "def greet_user():\n",
    "    print('==========YOU ARE USING THE TOP SECRET PROGRAM==========')\n",
    "    use_func()"
   ]
  },
  {
   "cell_type": "code",
   "execution_count": 12,
   "id": "ef38db3e",
   "metadata": {},
   "outputs": [],
   "source": [
    "def run_again():\n",
    "    print('\\n')\n",
    "    choice=input(\"Would you like to use a tool again? [y/n] \")\n",
    "    choice=choice.lower()\n",
    "    if choice=='y':\n",
    "        use_func()\n",
    "    elif choice=='n':\n",
    "        print(\"Have a nice day\")\n",
    "    else:\n",
    "        print('Please enter a valid choice')\n",
    "        run_again()"
   ]
  },
  {
   "cell_type": "code",
   "execution_count": 13,
   "id": "c9edd7b7",
   "metadata": {},
   "outputs": [
    {
     "name": "stdout",
     "output_type": "stream",
     "text": [
      "==========YOU ARE USING THE TOP SECRET PROGRAM==========\n",
      "1. Password Generator\n",
      "2. Message Encryptor\n",
      "3. Exit \n",
      "Which tool would you like to use?\n",
      " 3\n",
      "Have a nice day\n",
      "\n",
      "\n",
      "Would you like to use a tool again? [y/n] n\n",
      "Have a nice day\n"
     ]
    }
   ],
   "source": [
    "greet_user()"
   ]
  },
  {
   "cell_type": "code",
   "execution_count": null,
   "id": "5f25e970",
   "metadata": {},
   "outputs": [],
   "source": []
  }
 ],
 "metadata": {
  "kernelspec": {
   "display_name": "Python 3 (ipykernel)",
   "language": "python",
   "name": "python3"
  },
  "language_info": {
   "codemirror_mode": {
    "name": "ipython",
    "version": 3
   },
   "file_extension": ".py",
   "mimetype": "text/x-python",
   "name": "python",
   "nbconvert_exporter": "python",
   "pygments_lexer": "ipython3",
   "version": "3.9.13"
  }
 },
 "nbformat": 4,
 "nbformat_minor": 5
}
